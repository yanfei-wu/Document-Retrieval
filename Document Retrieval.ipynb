{
 "cells": [
  {
   "cell_type": "code",
   "execution_count": 1,
   "metadata": {
    "collapsed": true
   },
   "outputs": [],
   "source": [
    "# imports\n",
    "import numpy as np\n",
    "import pandas as pd\n",
    "\n",
    "from collections import Counter\n",
    "\n",
    "from sklearn.feature_extraction.text import CountVectorizer\n",
    "from sklearn.feature_extraction.text import TfidfTransformer\n",
    "\n",
    "import operator\n",
    "\n",
    "from sklearn.metrics.pairwise import cosine_similarity  \n",
    "from sklearn.neighbors import NearestNeighbors\n",
    "from sklearn.neighbors import DistanceMetric"
   ]
  },
  {
   "cell_type": "markdown",
   "metadata": {},
   "source": [
    "## 1. Load people data from Wiki "
   ]
  },
  {
   "cell_type": "code",
   "execution_count": 2,
   "metadata": {
    "collapsed": false
   },
   "outputs": [
    {
     "name": "stdout",
     "output_type": "stream",
     "text": [
      "(59071, 3)\n"
     ]
    }
   ],
   "source": [
    "ppl = pd.read_csv('people_wiki.csv')\n",
    "print ppl.shape"
   ]
  },
  {
   "cell_type": "code",
   "execution_count": 3,
   "metadata": {
    "collapsed": false
   },
   "outputs": [
    {
     "data": {
      "text/html": [
       "<div>\n",
       "<table border=\"1\" class=\"dataframe\">\n",
       "  <thead>\n",
       "    <tr style=\"text-align: right;\">\n",
       "      <th></th>\n",
       "      <th>URI</th>\n",
       "      <th>name</th>\n",
       "      <th>text</th>\n",
       "    </tr>\n",
       "  </thead>\n",
       "  <tbody>\n",
       "    <tr>\n",
       "      <th>0</th>\n",
       "      <td>&lt;http://dbpedia.org/resource/Digby_Morrell&gt;</td>\n",
       "      <td>Digby Morrell</td>\n",
       "      <td>digby morrell born 10 october 1979 is a former...</td>\n",
       "    </tr>\n",
       "    <tr>\n",
       "      <th>1</th>\n",
       "      <td>&lt;http://dbpedia.org/resource/Alfred_J._Lewy&gt;</td>\n",
       "      <td>Alfred J. Lewy</td>\n",
       "      <td>alfred j lewy aka sandy lewy graduated from un...</td>\n",
       "    </tr>\n",
       "    <tr>\n",
       "      <th>2</th>\n",
       "      <td>&lt;http://dbpedia.org/resource/Harpdog_Brown&gt;</td>\n",
       "      <td>Harpdog Brown</td>\n",
       "      <td>harpdog brown is a singer and harmonica player...</td>\n",
       "    </tr>\n",
       "    <tr>\n",
       "      <th>3</th>\n",
       "      <td>&lt;http://dbpedia.org/resource/Franz_Rottensteiner&gt;</td>\n",
       "      <td>Franz Rottensteiner</td>\n",
       "      <td>franz rottensteiner born in waidmannsfeld lowe...</td>\n",
       "    </tr>\n",
       "    <tr>\n",
       "      <th>4</th>\n",
       "      <td>&lt;http://dbpedia.org/resource/G-Enka&gt;</td>\n",
       "      <td>G-Enka</td>\n",
       "      <td>henry krvits born 30 december 1974 in tallinn ...</td>\n",
       "    </tr>\n",
       "  </tbody>\n",
       "</table>\n",
       "</div>"
      ],
      "text/plain": [
       "                                                 URI                 name  \\\n",
       "0        <http://dbpedia.org/resource/Digby_Morrell>        Digby Morrell   \n",
       "1       <http://dbpedia.org/resource/Alfred_J._Lewy>       Alfred J. Lewy   \n",
       "2        <http://dbpedia.org/resource/Harpdog_Brown>        Harpdog Brown   \n",
       "3  <http://dbpedia.org/resource/Franz_Rottensteiner>  Franz Rottensteiner   \n",
       "4               <http://dbpedia.org/resource/G-Enka>               G-Enka   \n",
       "\n",
       "                                                text  \n",
       "0  digby morrell born 10 october 1979 is a former...  \n",
       "1  alfred j lewy aka sandy lewy graduated from un...  \n",
       "2  harpdog brown is a singer and harmonica player...  \n",
       "3  franz rottensteiner born in waidmannsfeld lowe...  \n",
       "4  henry krvits born 30 december 1974 in tallinn ...  "
      ]
     },
     "execution_count": 3,
     "metadata": {},
     "output_type": "execute_result"
    }
   ],
   "source": [
    "ppl.head()"
   ]
  },
  {
   "cell_type": "code",
   "execution_count": 4,
   "metadata": {
    "collapsed": false,
    "scrolled": true
   },
   "outputs": [
    {
     "data": {
      "text/html": [
       "<div>\n",
       "<table border=\"1\" class=\"dataframe\">\n",
       "  <thead>\n",
       "    <tr style=\"text-align: right;\">\n",
       "      <th></th>\n",
       "      <th>URI</th>\n",
       "      <th>name</th>\n",
       "      <th>text</th>\n",
       "    </tr>\n",
       "  </thead>\n",
       "  <tbody>\n",
       "    <tr>\n",
       "      <th>54264</th>\n",
       "      <td>&lt;http://dbpedia.org/resource/Taylor_Swift&gt;</td>\n",
       "      <td>Taylor Swift</td>\n",
       "      <td>taylor alison swift born december 13 1989 is a...</td>\n",
       "    </tr>\n",
       "  </tbody>\n",
       "</table>\n",
       "</div>"
      ],
      "text/plain": [
       "                                              URI          name  \\\n",
       "54264  <http://dbpedia.org/resource/Taylor_Swift>  Taylor Swift   \n",
       "\n",
       "                                                    text  \n",
       "54264  taylor alison swift born december 13 1989 is a...  "
      ]
     },
     "execution_count": 4,
     "metadata": {},
     "output_type": "execute_result"
    }
   ],
   "source": [
    "swift = ppl[ppl['name'] == 'Taylor Swift']\n",
    "swift"
   ]
  },
  {
   "cell_type": "code",
   "execution_count": 5,
   "metadata": {
    "collapsed": false,
    "scrolled": true
   },
   "outputs": [
    {
     "name": "stdout",
     "output_type": "stream",
     "text": [
      "[ 'taylor alison swift born december 13 1989 is an american singersongwriter raised in wyomissing pennsylvania swift moved to nashville tennessee at the age of 14 to pursue a career in country music she signed with the independent label big machine records and became the youngest songwriter ever hired by the sonyatv music publishing house the release of swifts selftitled debut album in 2006 established her as a country music star her third single our song made her the youngest person to singlehandedly write and perform a numberone song on the hot country songs chart she received a best new artist nomination at the 2008 grammy awards swifts second album fearless was released in 2008 buoyed by the pop crossover success of the singles love story and you belong with me fearless became the bestselling album of 2009 in the us the album won four grammy awards with swift becoming the youngest ever album of the year winner swifts third and fourth albums 2010s speak now and 2012s red both sold over one million copies within the first week of their us release speak now won two grammy awards while reds singles we are never ever getting back together and i knew you were trouble were worldwide hits swifts fifth album the popfocused 1989 was released in 2014 it sold more copies in its opening week than any album in the previous 12 years and made swift the first and only act to have three albums sell more than one million copies in a week the singles shake it off and blank space both reached number one on the billboard hot 100 swift is known for narrative songs about her personal experiences as a songwriter she has been honored by the nashville songwriters association and the songwriters hall of fame swifts other achievements include seven grammy awards twelve billboard music awards eleven country music association awards and seven academy of country music awards to date she has sold over 30 million albums 271 million in the us and 80 million digital single downloads in addition to her music career swift has appeared as an actress in the ensemble comedy valentines day 2010 the animated film the lorax 2012 and the giver 2014 as a philanthropist swift supports arts education childrens literacy natural disaster relief lgbt antidiscrimination efforts and charities for sick children']\n"
     ]
    }
   ],
   "source": [
    "print swift.text.values"
   ]
  },
  {
   "cell_type": "code",
   "execution_count": 8,
   "metadata": {
    "collapsed": false
   },
   "outputs": [
    {
     "data": {
      "text/html": [
       "<div>\n",
       "<table border=\"1\" class=\"dataframe\">\n",
       "  <thead>\n",
       "    <tr style=\"text-align: right;\">\n",
       "      <th></th>\n",
       "      <th>URI</th>\n",
       "      <th>name</th>\n",
       "      <th>text</th>\n",
       "    </tr>\n",
       "  </thead>\n",
       "  <tbody>\n",
       "    <tr>\n",
       "      <th>48436</th>\n",
       "      <td>&lt;http://dbpedia.org/resource/Johnny_Depp&gt;</td>\n",
       "      <td>Johnny Depp</td>\n",
       "      <td>john christopher johnny depp ii born june 9 19...</td>\n",
       "    </tr>\n",
       "  </tbody>\n",
       "</table>\n",
       "</div>"
      ],
      "text/plain": [
       "                                             URI         name  \\\n",
       "48436  <http://dbpedia.org/resource/Johnny_Depp>  Johnny Depp   \n",
       "\n",
       "                                                    text  \n",
       "48436  john christopher johnny depp ii born june 9 19...  "
      ]
     },
     "execution_count": 8,
     "metadata": {},
     "output_type": "execute_result"
    }
   ],
   "source": [
    "depp = ppl[ppl['name'] == 'Johnny Depp']\n",
    "depp"
   ]
  },
  {
   "cell_type": "code",
   "execution_count": 9,
   "metadata": {
    "collapsed": false
   },
   "outputs": [
    {
     "data": {
      "text/html": [
       "<div>\n",
       "<table border=\"1\" class=\"dataframe\">\n",
       "  <thead>\n",
       "    <tr style=\"text-align: right;\">\n",
       "      <th></th>\n",
       "      <th>URI</th>\n",
       "      <th>name</th>\n",
       "      <th>text</th>\n",
       "    </tr>\n",
       "  </thead>\n",
       "  <tbody>\n",
       "    <tr>\n",
       "      <th>23386</th>\n",
       "      <td>&lt;http://dbpedia.org/resource/David_Beckham&gt;</td>\n",
       "      <td>David Beckham</td>\n",
       "      <td>david robert joseph beckham obe bkm born 2 may...</td>\n",
       "    </tr>\n",
       "  </tbody>\n",
       "</table>\n",
       "</div>"
      ],
      "text/plain": [
       "                                               URI           name  \\\n",
       "23386  <http://dbpedia.org/resource/David_Beckham>  David Beckham   \n",
       "\n",
       "                                                    text  \n",
       "23386  david robert joseph beckham obe bkm born 2 may...  "
      ]
     },
     "execution_count": 9,
     "metadata": {},
     "output_type": "execute_result"
    }
   ],
   "source": [
    "beckham = ppl[ppl['name'] == 'David Beckham']\n",
    "beckham"
   ]
  },
  {
   "cell_type": "code",
   "execution_count": 10,
   "metadata": {
    "collapsed": false
   },
   "outputs": [
    {
     "data": {
      "text/html": [
       "<div>\n",
       "<table border=\"1\" class=\"dataframe\">\n",
       "  <thead>\n",
       "    <tr style=\"text-align: right;\">\n",
       "      <th></th>\n",
       "      <th>URI</th>\n",
       "      <th>name</th>\n",
       "      <th>text</th>\n",
       "    </tr>\n",
       "  </thead>\n",
       "  <tbody>\n",
       "    <tr>\n",
       "      <th>35817</th>\n",
       "      <td>&lt;http://dbpedia.org/resource/Barack_Obama&gt;</td>\n",
       "      <td>Barack Obama</td>\n",
       "      <td>barack hussein obama ii brk husen bm born augu...</td>\n",
       "    </tr>\n",
       "  </tbody>\n",
       "</table>\n",
       "</div>"
      ],
      "text/plain": [
       "                                              URI          name  \\\n",
       "35817  <http://dbpedia.org/resource/Barack_Obama>  Barack Obama   \n",
       "\n",
       "                                                    text  \n",
       "35817  barack hussein obama ii brk husen bm born augu...  "
      ]
     },
     "execution_count": 10,
     "metadata": {},
     "output_type": "execute_result"
    }
   ],
   "source": [
    "obama = ppl[ppl['name'] == 'Barack Obama']\n",
    "obama"
   ]
  },
  {
   "cell_type": "markdown",
   "metadata": {},
   "source": [
    "## 2. Explore word count"
   ]
  },
  {
   "cell_type": "code",
   "execution_count": 11,
   "metadata": {
    "collapsed": false,
    "scrolled": true
   },
   "outputs": [],
   "source": [
    "wordcount_swift = Counter(\" \".join(swift['text'].values.tolist()).split(\" \"))"
   ]
  },
  {
   "cell_type": "code",
   "execution_count": 12,
   "metadata": {
    "collapsed": false
   },
   "outputs": [
    {
     "name": "stdout",
     "output_type": "stream",
     "text": [
      "Counter({'the': 28, 'and': 14, 'in': 12, 'of': 8, 'album': 7, 'awards': 7, 'swift': 7, 'music': 7, 'a': 7, 'to': 6, 'swifts': 5, 'million': 5, 'her': 5, 'country': 5, 'she': 4, 'grammy': 4, 'as': 4, 'has': 3, 'us': 3, 'ever': 3, 'sold': 3, 'youngest': 3, 'by': 3, 'one': 3, 'copies': 3, 'albums': 3, 'with': 3, 'week': 3, 'singles': 3, 'over': 2, 'both': 2, '2014': 2, 'song': 2, 'songwriter': 2, 'were': 2, 'now': 2, 'association': 2, 'release': 2, 'billboard': 2, 'for': 2, 'won': 2, 'fearless': 2, 'nashville': 2, 'career': 2, 'first': 2, 'speak': 2, '1989': 2, 'was': 2, 'songwriters': 2, 'more': 2, 'on': 2, 'released': 2, 'than': 2, 'made': 2, 'single': 2, 'seven': 2, 'is': 2, 'it': 2, 'an': 2, 'at': 2, 'hot': 2, 'became': 2, 'you': 2, 'third': 2, '2008': 2, 'songs': 2, 'singersongwriter': 1, 'charities': 1, 'actress': 1, 'years': 1, 'four': 1, 'shake': 1, 'its': 1, 'fifth': 1, 'previous': 1, 'machine': 1, 'personal': 1, 'winner': 1, 'day': 1, 'only': 1, 'other': 1, '2010': 1, '2012': 1, '12': 1, 'big': 1, '13': 1, 'records': 1, 'trouble': 1, 'hall': 1, 'literacy': 1, 'bestselling': 1, 'success': 1, 'artist': 1, 'supports': 1, 'debut': 1, 'sell': 1, 'worldwide': 1, 'honored': 1, 'disaster': 1, 'house': 1, 'lgbt': 1, 'back': 1, 'born': 1, 'second': 1, 'year': 1, 'our': 1, '80': 1, '2010s': 1, 'best': 1, 'established': 1, 'giver': 1, 'space': 1, 'label': 1, 'include': 1, 'buoyed': 1, 'new': 1, 'achievements': 1, 'we': 1, 'opening': 1, 'arts': 1, 'philanthropist': 1, 'red': 1, 'lorax': 1, '100': 1, 'received': 1, 'hits': 1, 'getting': 1, '30': 1, 'american': 1, 'sonyatv': 1, 'act': 1, 'efforts': 1, 'reds': 1, 'raised': 1, 'love': 1, '2012s': 1, 'appeared': 1, 'within': 1, 'number': 1, 'pop': 1, 'tennessee': 1, 'blank': 1, 'reached': 1, 'popfocused': 1, 'alison': 1, 'twelve': 1, 'story': 1, 'publishing': 1, 'eleven': 1, 'addition': 1, 'been': 1, 'their': 1, 'academy': 1, 'becoming': 1, 'about': 1, 'sick': 1, 'known': 1, 'natural': 1, 'crossover': 1, 'me': 1, 'selftitled': 1, '14': 1, '271': 1, 'pursue': 1, 'signed': 1, 'i': 1, 'while': 1, 'three': 1, 'animated': 1, 'are': 1, 'taylor': 1, 'december': 1, 'moved': 1, 'childrens': 1, 'have': 1, 'wyomissing': 1, 'any': 1, 'film': 1, 'antidiscrimination': 1, 'numberone': 1, 'education': 1, 'perform': 1, 'belong': 1, 'fame': 1, 'write': 1, 'fourth': 1, 'digital': 1, 'comedy': 1, 'ensemble': 1, 'independent': 1, 'star': 1, 'valentines': 1, 'downloads': 1, 'knew': 1, 'chart': 1, 'hired': 1, 'experiences': 1, 'two': 1, 'never': 1, 'date': 1, 'nomination': 1, '2009': 1, 'off': 1, 'pennsylvania': 1, 'age': 1, 'children': 1, 'together': 1, 'person': 1, '2006': 1, 'relief': 1, 'narrative': 1, 'singlehandedly': 1})\n"
     ]
    }
   ],
   "source": [
    "print wordcount_swift"
   ]
  },
  {
   "cell_type": "code",
   "execution_count": 13,
   "metadata": {
    "collapsed": false,
    "scrolled": true
   },
   "outputs": [
    {
     "data": {
      "text/plain": [
       "[('the', 28),\n",
       " ('and', 14),\n",
       " ('in', 12),\n",
       " ('of', 8),\n",
       " ('album', 7),\n",
       " ('awards', 7),\n",
       " ('swift', 7),\n",
       " ('music', 7),\n",
       " ('a', 7),\n",
       " ('to', 6)]"
      ]
     },
     "execution_count": 13,
     "metadata": {},
     "output_type": "execute_result"
    }
   ],
   "source": [
    "# top 10 words with the most counts in the swift article \n",
    "wordcount_swift.most_common(10)"
   ]
  },
  {
   "cell_type": "code",
   "execution_count": 14,
   "metadata": {
    "collapsed": false,
    "scrolled": true
   },
   "outputs": [
    {
     "data": {
      "text/plain": [
       "[('the', 31),\n",
       " ('in', 19),\n",
       " ('and', 14),\n",
       " ('of', 10),\n",
       " ('for', 9),\n",
       " ('has', 7),\n",
       " ('he', 7),\n",
       " ('actor', 6),\n",
       " ('award', 5),\n",
       " ('depp', 5)]"
      ]
     },
     "execution_count": 14,
     "metadata": {},
     "output_type": "execute_result"
    }
   ],
   "source": [
    "# top 10 words with the most counts in the depp article \n",
    "wordcount_depp = Counter(\" \".join(depp['text'].values.tolist()).split(\" \"))\n",
    "wordcount_depp.most_common(10)"
   ]
  },
  {
   "cell_type": "code",
   "execution_count": 15,
   "metadata": {
    "collapsed": false,
    "scrolled": true
   },
   "outputs": [
    {
     "data": {
      "text/plain": [
       "[('the', 21),\n",
       " ('in', 16),\n",
       " ('he', 12),\n",
       " ('and', 12),\n",
       " ('beckham', 8),\n",
       " ('for', 7),\n",
       " ('of', 7),\n",
       " ('his', 6),\n",
       " ('with', 6),\n",
       " ('was', 5)]"
      ]
     },
     "execution_count": 15,
     "metadata": {},
     "output_type": "execute_result"
    }
   ],
   "source": [
    "# top 10 words with the most counts in the beckham article \n",
    "wordcount_beckham = Counter(\" \".join(beckham['text'].values.tolist()).split(\" \"))\n",
    "wordcount_beckham.most_common(10)"
   ]
  },
  {
   "cell_type": "code",
   "execution_count": 16,
   "metadata": {
    "collapsed": false
   },
   "outputs": [
    {
     "data": {
      "text/plain": [
       "[('the', 40),\n",
       " ('in', 30),\n",
       " ('and', 21),\n",
       " ('of', 18),\n",
       " ('to', 14),\n",
       " ('his', 11),\n",
       " ('obama', 9),\n",
       " ('act', 8),\n",
       " ('he', 7),\n",
       " ('a', 7)]"
      ]
     },
     "execution_count": 16,
     "metadata": {},
     "output_type": "execute_result"
    }
   ],
   "source": [
    "# top 10 words with the most counts in the obama article \n",
    "wordcount_obama = Counter(\" \".join(obama['text'].values.tolist()).split(\" \"))\n",
    "wordcount_obama.most_common(10)"
   ]
  },
  {
   "cell_type": "markdown",
   "metadata": {},
   "source": [
    "## 3. Compute and explore TF-IDFs"
   ]
  },
  {
   "cell_type": "code",
   "execution_count": 17,
   "metadata": {
    "collapsed": true
   },
   "outputs": [],
   "source": [
    "countvect = CountVectorizer(stop_words = 'english')\n",
    "wordcount_corpus = countvect.fit_transform(ppl['text'])"
   ]
  },
  {
   "cell_type": "code",
   "execution_count": 18,
   "metadata": {
    "collapsed": true
   },
   "outputs": [],
   "source": [
    "feature_name = countvect.get_feature_names()"
   ]
  },
  {
   "cell_type": "code",
   "execution_count": 19,
   "metadata": {
    "collapsed": true
   },
   "outputs": [],
   "source": [
    "tfidftransformer = TfidfTransformer(norm = None)\n",
    "tfidf = tfidftransformer.fit_transform(wordcount_corpus)"
   ]
  },
  {
   "cell_type": "code",
   "execution_count": 20,
   "metadata": {
    "collapsed": true
   },
   "outputs": [],
   "source": [
    "# examine TF-IDFs on Taylor Swift\n",
    "tfidf_swift = tfidf[swift.index]\n",
    "feature_swift = map(lambda x: feature_name[x], tfidf_swift.indices)\n",
    "tfidf_swift_vec = dict(zip(feature_swift, tfidf_swift.data))"
   ]
  },
  {
   "cell_type": "code",
   "execution_count": 32,
   "metadata": {
    "collapsed": false
   },
   "outputs": [
    {
     "data": {
      "text/plain": [
       "[(u'swift', 52.177389772964872),\n",
       " (u'swifts', 44.477349322521036),\n",
       " (u'album', 24.15760450729659),\n",
       " (u'awards', 22.986851344203274),\n",
       " (u'grammy', 20.339100444823799),\n",
       " (u'million', 20.08750268378023),\n",
       " (u'music', 19.548955401685085),\n",
       " (u'country', 18.370658605378864),\n",
       " (u'copies', 16.49648489813374),\n",
       " (u'fearless', 15.447664881642417)]"
      ]
     },
     "execution_count": 32,
     "metadata": {},
     "output_type": "execute_result"
    }
   ],
   "source": [
    "tfidf_swift_sorted = sorted(tfidf_swift_vec.items(), key = operator.itemgetter(1))\n",
    "tfidf_swift_sorted.reverse()\n",
    "tfidf_swift_sorted[0:10]"
   ]
  },
  {
   "cell_type": "code",
   "execution_count": 33,
   "metadata": {
    "collapsed": false
   },
   "outputs": [],
   "source": [
    "# function to find top tdidf \n",
    "\n",
    "def top_tdidf(person):\n",
    "    tfidf_person = tfidf[person.index]\n",
    "    feature_person = map(lambda x: feature_name[x], tfidf_swift.indices)\n",
    "    tfidf_person_vec = dict(zip(feature_person, tfidf_person.data))\n",
    "    tfidf_person_sorted = sorted(tfidf_person_vec.items(), key = operator.itemgetter(1))\n",
    "    tfidf_person_sorted.reverse()\n",
    "    return tfidf_person_sorted[0:10]"
   ]
  },
  {
   "cell_type": "code",
   "execution_count": 34,
   "metadata": {
    "collapsed": false
   },
   "outputs": [
    {
     "data": {
      "text/plain": [
       "[(u'efforts', 42.926574681001846),\n",
       " (u'love', 41.364701255791083),\n",
       " (u'star', 24.174851770943292),\n",
       " (u'chart', 23.84258537614884),\n",
       " (u'age', 23.746386932252264),\n",
       " (u'grammy', 22.677390524460961),\n",
       " (u'big', 22.480167480524344),\n",
       " (u'honored', 15.165007774276788),\n",
       " (u'hot', 15.120806368274012),\n",
       " (u'disaster', 15.087722122744415)]"
      ]
     },
     "execution_count": 34,
     "metadata": {},
     "output_type": "execute_result"
    }
   ],
   "source": [
    "top_tdidf(depp)"
   ]
  },
  {
   "cell_type": "code",
   "execution_count": 35,
   "metadata": {
    "collapsed": false,
    "scrolled": true
   },
   "outputs": [
    {
     "data": {
      "text/plain": [
       "[(u'bestselling', 64.757536158015171),\n",
       " (u'known', 20.947698035751195),\n",
       " (u'hired', 17.12960648556264),\n",
       " (u'selftitled', 15.67138241317334),\n",
       " (u'new', 15.427772226587306),\n",
       " (u'year', 11.676088043889754),\n",
       " (u'natural', 11.404322520990725),\n",
       " (u'popfocused', 11.360474061829017),\n",
       " (u'perform', 11.342308632680378),\n",
       " (u'copies', 11.293365137302578)]"
      ]
     },
     "execution_count": 35,
     "metadata": {},
     "output_type": "execute_result"
    }
   ],
   "source": [
    "top_tdidf(beckham)"
   ]
  },
  {
   "cell_type": "code",
   "execution_count": 36,
   "metadata": {
    "collapsed": false
   },
   "outputs": [
    {
     "data": {
      "text/plain": [
       "[(u'supports', 52.277113834307315),\n",
       " (u'act', 35.674051187909924),\n",
       " (u'publishing', 21.741727931276476),\n",
       " (u'released', 20.721855882367674),\n",
       " (u'december', 18.884330378434285),\n",
       " (u'trouble', 17.526980051210632),\n",
       " (u'singles', 17.114203144108135),\n",
       " (u'getting', 16.409249536745939),\n",
       " (u'previous', 15.780836746511332),\n",
       " (u'career', 12.077519128423219)]"
      ]
     },
     "execution_count": 36,
     "metadata": {},
     "output_type": "execute_result"
    }
   ],
   "source": [
    "top_tdidf(obama)"
   ]
  },
  {
   "cell_type": "markdown",
   "metadata": {},
   "source": [
    "## 4. Compute distance between articles "
   ]
  },
  {
   "cell_type": "code",
   "execution_count": 41,
   "metadata": {
    "collapsed": false
   },
   "outputs": [
    {
     "name": "stdout",
     "output_type": "stream",
     "text": [
      "Distance btw Swift and Depp: [[ 0.9595084]]\n",
      "Distance btw Swift and Beckham: [[ 0.97621295]]\n",
      "Distance btw Swift and Obama: [[ 0.96917793]]\n"
     ]
    }
   ],
   "source": [
    "# manually compute distances\n",
    "print('Distance btw Swift and Depp: {}' .format(1-cosine_similarity(tfidf[swift.index], tfidf[depp.index])))\n",
    "print('Distance btw Swift and Beckham: {}' .format(1-cosine_similarity(tfidf[swift.index], tfidf[beckham.index])))\n",
    "print('Distance btw Swift and Obama: {}' .format(1-cosine_similarity(tfidf[swift.index], tfidf[obama.index])))"
   ]
  },
  {
   "cell_type": "code",
   "execution_count": 42,
   "metadata": {
    "collapsed": false
   },
   "outputs": [
    {
     "name": "stdout",
     "output_type": "stream",
     "text": [
      "Distance btw Depp and Beckham: [[ 0.97129603]]\n",
      "Distance btw Depp and Obama: [[ 0.98060606]]\n"
     ]
    }
   ],
   "source": [
    "print('Distance btw Depp and Beckham: {}' .format(1-cosine_similarity(tfidf[depp.index], tfidf[beckham.index])))\n",
    "print('Distance btw Depp and Obama: {}' .format(1-cosine_similarity(tfidf[depp.index], tfidf[obama.index])))"
   ]
  },
  {
   "cell_type": "code",
   "execution_count": 43,
   "metadata": {
    "collapsed": false
   },
   "outputs": [
    {
     "name": "stdout",
     "output_type": "stream",
     "text": [
      "Distance btw Beckham and Obama: [[ 0.97443419]]\n"
     ]
    }
   ],
   "source": [
    "print('Distance btw Beckham and Obama: {}' .format(1-cosine_similarity(tfidf[beckham.index], tfidf[obama.index])))"
   ]
  },
  {
   "cell_type": "markdown",
   "metadata": {},
   "source": [
    "## 5. Build and explore nearest neighbors model"
   ]
  },
  {
   "cell_type": "code",
   "execution_count": 52,
   "metadata": {
    "collapsed": true
   },
   "outputs": [],
   "source": [
    "nb1 = NearestNeighbors(n_neighbors = 5, algorithm = 'brute', metric = 'euclidean')\n",
    "\n",
    "nb2 = NearestNeighbors(n_neighbors = 5, algorithm = 'brute')\n",
    "\n",
    "nb3 = NearestNeighbors(n_neighbors = 5, algorithm = 'brute', metric = 'manhattan')"
   ]
  },
  {
   "cell_type": "code",
   "execution_count": 53,
   "metadata": {
    "collapsed": false
   },
   "outputs": [
    {
     "data": {
      "text/plain": [
       "NearestNeighbors(algorithm='brute', leaf_size=30, metric='euclidean',\n",
       "         metric_params=None, n_jobs=1, n_neighbors=5, p=2, radius=1.0)"
      ]
     },
     "execution_count": 53,
     "metadata": {},
     "output_type": "execute_result"
    }
   ],
   "source": [
    "nb1.fit(tfidf)"
   ]
  },
  {
   "cell_type": "code",
   "execution_count": 54,
   "metadata": {
    "collapsed": false
   },
   "outputs": [
    {
     "data": {
      "text/plain": [
       "NearestNeighbors(algorithm='brute', leaf_size=30, metric='minkowski',\n",
       "         metric_params=None, n_jobs=1, n_neighbors=5, p=2, radius=1.0)"
      ]
     },
     "execution_count": 54,
     "metadata": {},
     "output_type": "execute_result"
    }
   ],
   "source": [
    "nb2.fit(tfidf)"
   ]
  },
  {
   "cell_type": "code",
   "execution_count": 55,
   "metadata": {
    "collapsed": false
   },
   "outputs": [
    {
     "data": {
      "text/plain": [
       "NearestNeighbors(algorithm='brute', leaf_size=30, metric='manhattan',\n",
       "         metric_params=None, n_jobs=1, n_neighbors=5, p=2, radius=1.0)"
      ]
     },
     "execution_count": 55,
     "metadata": {},
     "output_type": "execute_result"
    }
   ],
   "source": [
    "nb3.fit(tfidf)"
   ]
  },
  {
   "cell_type": "code",
   "execution_count": 61,
   "metadata": {
    "collapsed": true
   },
   "outputs": [],
   "source": [
    "# find 10 nearest neighbors of swift using model 1\n",
    "dist1, index1 = nb1.kneighbors(X = tfidf[swift.index], n_neighbors = 10, return_distance = True)"
   ]
  },
  {
   "cell_type": "code",
   "execution_count": 57,
   "metadata": {
    "collapsed": false
   },
   "outputs": [
    {
     "data": {
      "text/plain": [
       "[(54264      Taylor Swift\n",
       "  6215          Amy Grant\n",
       "  25612     Rodney Atkins\n",
       "  30135    Kellie Pickler\n",
       "  41723     Stacie Orrico\n",
       "  54802     Darius Rucker\n",
       "  55170     Alison Krauss\n",
       "  17505    George Michael\n",
       "  57446      Richard Marx\n",
       "  22894     Dido (singer)\n",
       "  Name: name, dtype: object,\n",
       "  array([   0.        ,  118.96691879,  119.96919175,  120.98169082,\n",
       "          122.43973736,  122.4679805 ,  122.5878386 ,  122.6106631 ,\n",
       "          123.06504989,  123.41357024]))]"
      ]
     },
     "execution_count": 57,
     "metadata": {},
     "output_type": "execute_result"
    }
   ],
   "source": [
    "zip(map(lambda x: ppl['name'].iloc[x], index1), dist1)"
   ]
  },
  {
   "cell_type": "code",
   "execution_count": 60,
   "metadata": {
    "collapsed": false
   },
   "outputs": [
    {
     "data": {
      "text/plain": [
       "[(54264      Taylor Swift\n",
       "  6215          Amy Grant\n",
       "  25612     Rodney Atkins\n",
       "  30135    Kellie Pickler\n",
       "  41723     Stacie Orrico\n",
       "  54802     Darius Rucker\n",
       "  55170     Alison Krauss\n",
       "  17505    George Michael\n",
       "  57446      Richard Marx\n",
       "  22894     Dido (singer)\n",
       "  Name: name, dtype: object,\n",
       "  array([   0.        ,  118.96691879,  119.96919175,  120.98169082,\n",
       "          122.43973736,  122.4679805 ,  122.5878386 ,  122.6106631 ,\n",
       "          123.06504989,  123.41357024]))]"
      ]
     },
     "execution_count": 60,
     "metadata": {},
     "output_type": "execute_result"
    }
   ],
   "source": [
    "# use model 2\n",
    "dist2, index2 = nb2.kneighbors(X = tfidf[swift.index], n_neighbors = 10, return_distance = True)\n",
    "zip(map(lambda x: ppl['name'].iloc[x], index2), dist2)"
   ]
  },
  {
   "cell_type": "code",
   "execution_count": 62,
   "metadata": {
    "collapsed": false
   },
   "outputs": [
    {
     "data": {
      "text/plain": [
       "[(54264          Taylor Swift\n",
       "  25612         Rodney Atkins\n",
       "  6215              Amy Grant\n",
       "  41723         Stacie Orrico\n",
       "  33780    Sam Smith (singer)\n",
       "  24649        Agnes Carlsson\n",
       "  22894         Dido (singer)\n",
       "  54802         Darius Rucker\n",
       "  56720       Sylvia (singer)\n",
       "  47585    Corinne Bailey Rae\n",
       "  Name: name, dtype: object,\n",
       "  array([    0.        ,  1291.70450375,  1310.05327475,  1310.1304238 ,\n",
       "          1338.63503958,  1344.92404505,  1344.94369664,  1351.51059666,\n",
       "          1362.57463175,  1371.98668887]))]"
      ]
     },
     "execution_count": 62,
     "metadata": {},
     "output_type": "execute_result"
    }
   ],
   "source": [
    "# use model 3\n",
    "dist3, index3 = nb3.kneighbors(X = tfidf[swift.index], n_neighbors = 10, return_distance = True)\n",
    "zip(map(lambda x: ppl['name'].iloc[x], index3), dist3)"
   ]
  },
  {
   "cell_type": "code",
   "execution_count": null,
   "metadata": {
    "collapsed": true
   },
   "outputs": [],
   "source": []
  }
 ],
 "metadata": {
  "kernelspec": {
   "display_name": "Python 2",
   "language": "python",
   "name": "python2"
  },
  "language_info": {
   "codemirror_mode": {
    "name": "ipython",
    "version": 2
   },
   "file_extension": ".py",
   "mimetype": "text/x-python",
   "name": "python",
   "nbconvert_exporter": "python",
   "pygments_lexer": "ipython2",
   "version": "2.7.12"
  }
 },
 "nbformat": 4,
 "nbformat_minor": 0
}
